{
 "cells": [
  {
   "cell_type": "code",
   "execution_count": 17,
   "id": "18c24e16",
   "metadata": {},
   "outputs": [
    {
     "name": "stdout",
     "output_type": "stream",
     "text": [
      "# Randomly generated data for apersonnel scheduling problem\n",
      "# ./datagen tightness = 90 Multi-skilling level = 33\n",
      "# Random number generator seed = 0\n",
      "Type = 1\n",
      "Jobs = 40\n"
     ]
    }
   ],
   "source": [
    "# Load the file\n",
    "file_path = \"/Users/yasas/Library/Mobile Documents/com~apple~CloudDocs/MSc AI/COMP5012/Coursework/ptask/data_2_24_40_33.dat\"\n",
    "\n",
    "# Read the file content\n",
    "with open(file_path, 'r') as file:\n",
    "    data = file.readlines()\n",
    "\n",
    "# Print the first few lines to inspect\n",
    "for line in data[:5]:\n",
    "    print(line.strip())"
   ]
  },
  {
   "cell_type": "code",
   "execution_count": 18,
   "id": "7eb0255c",
   "metadata": {},
   "outputs": [
    {
     "name": "stdout",
     "output_type": "stream",
     "text": [
      "Multi-skilling level: 33\n"
     ]
    }
   ],
   "source": [
    "# Extract the line containing \"Multi-skilling level\"\n",
    "multi_skilling_line = next(line for line in data if \"Multi-skilling level\" in line)\n",
    "\n",
    "# Extract the value using string manipulation\n",
    "multi_skilling_level = int(multi_skilling_line.split('=')[-1].strip())\n",
    "print(\"Multi-skilling level:\", multi_skilling_level)"
   ]
  },
  {
   "cell_type": "code",
   "execution_count": 19,
   "id": "d332317c",
   "metadata": {
    "vscode": {
     "languageId": "ruby"
    }
   },
   "outputs": [
    {
     "name": "stdout",
     "output_type": "stream",
     "text": [
      "Type: 1\n"
     ]
    }
   ],
   "source": [
    "# Extract the line containing \"Type\"\n",
    "type_line = next(line for line in data if \"Type\" in line)\n",
    "\n",
    "# Extract the value using string manipulation\n",
    "type_value = int(type_line.split('=')[-1].strip())\n",
    "print(\"Type:\", type_value)"
   ]
  },
  {
   "cell_type": "code",
   "execution_count": 20,
   "id": "49dc6bb9",
   "metadata": {},
   "outputs": [
    {
     "name": "stdout",
     "output_type": "stream",
     "text": [
      "Jobs: 40\n"
     ]
    }
   ],
   "source": [
    "# Extract the line containing \"Jobs\"\n",
    "jobs_line = next(line for line in data if \"Jobs\" in line)\n",
    "\n",
    "# Extract the value using string manipulation\n",
    "jobs_count = int(jobs_line.split('=')[-1].strip())\n",
    "print(\"Jobs:\", jobs_count)"
   ]
  },
  {
   "cell_type": "code",
   "execution_count": 21,
   "id": "7da28fc6",
   "metadata": {},
   "outputs": [
    {
     "name": "stdout",
     "output_type": "stream",
     "text": [
      "Job Time: [(14, 619), (29, 590), (96, 571), (737, 1297), (796, 1273), (1, 606), (230, 725), (38, 576), (197, 735), (139, 723), (57, 565), (183, 749), (740, 1261), (748, 1361), (856, 1343), (315, 788), (99, 676), (605, 1202), (4, 582), (699, 1222), (102, 664), (812, 1310), (159, 737), (96, 613), (754, 1259), (7, 619), (669, 1168), (55, 609), (757, 1282), (157, 702), (899, 1363), (850, 1355), (650, 1252), (33, 548), (824, 1382), (693, 1313), (625, 1223), (728, 1349), (791, 1357), (739, 1225)]\n"
     ]
    }
   ],
   "source": [
    "# Extract job time lines (lines containing pairs of numbers)\n",
    "job_time_lines = [line.strip() for line in data if line.strip().replace(' ', '').isdigit()]\n",
    "\n",
    "# Convert the job time lines into a list of tuples\n",
    "job_time = [tuple(map(int, line.split())) for line in job_time_lines]\n",
    "\n",
    "# Print the extracted job time\n",
    "print(\"Job Time:\", job_time)"
   ]
  },
  {
   "cell_type": "code",
   "execution_count": 22,
   "id": "4acc5f7f",
   "metadata": {},
   "outputs": [
    {
     "name": "stdout",
     "output_type": "stream",
     "text": [
      "Qualifications: 24\n"
     ]
    }
   ],
   "source": [
    "# Extract the line containing \"Qualifications\"\n",
    "qualifications_line = next(line for line in data if \"Qualifications\" in line)\n",
    "\n",
    "# Extract the value using string manipulation\n",
    "qualifications_count = int(qualifications_line.split('=')[-1].strip())\n",
    "print(\"Qualifications:\", qualifications_count)"
   ]
  },
  {
   "cell_type": "code",
   "execution_count": 23,
   "id": "295eb658",
   "metadata": {
    "vscode": {
     "languageId": "ruby"
    }
   },
   "outputs": [
    {
     "name": "stdout",
     "output_type": "stream",
     "text": [
      "Qualifications:\n",
      "[5, 12, 7, 13, 21, 22, 31, 32, 33, 39]\n",
      "[0, 19, 2, 4, 5, 6, 15, 16, 17, 18, 21, 23, 27, 29, 30, 33]\n",
      "[25, 28, 1, 3, 8, 9, 12, 20, 23, 26, 29, 30, 31, 33, 36, 39]\n",
      "[8, 13, 10, 20, 23, 31, 32, 34, 35, 36, 37]\n",
      "[7, 35, 2, 4, 5, 8, 10, 15, 19, 23, 25, 29]\n",
      "[29, 37, 0, 2, 3, 8, 11, 13, 16, 19, 20, 21, 22, 23, 24, 31, 35, 36, 39]\n",
      "[27, 30, 1, 6, 8, 21, 24, 32, 34, 38]\n",
      "[15, 34, 2, 3, 11, 12, 16, 17, 18, 22, 27, 35, 38, 39]\n",
      "[2, 3, 4, 6, 7, 9, 18, 23, 30, 32]\n",
      "[1, 4, 0, 3, 5, 9, 10, 11, 19, 23, 26, 29, 35, 38]\n",
      "[20, 39, 4, 8, 12, 14, 15, 16, 17, 18, 21, 23, 24, 25, 26, 27, 32, 34, 37]\n",
      "[11, 14, 0, 3, 6, 9, 24, 26, 31, 34, 37, 38]\n",
      "[6, 38, 0, 1, 8, 9, 11, 21, 22, 25, 27, 28, 32, 33]\n",
      "[16, 21, 4, 6, 8, 10, 25, 27, 35, 36, 37]\n",
      "[18, 26, 2, 10, 13, 24, 28, 30, 37, 38]\n",
      "[22, 24, 2, 6, 7, 12, 20, 25, 26, 27, 28, 31, 32, 33, 35]\n",
      "[9, 31, 6, 10, 21, 23, 24, 25, 26, 30, 32, 33, 35, 38, 39]\n",
      "[10, 17, 2, 3, 4, 5, 6, 13, 20, 23, 24, 28, 35, 37]\n",
      "[33, 36, 12, 13, 14, 15, 18, 22, 27, 28, 31, 35, 37]\n",
      "[23, 32, 2, 4, 5, 18, 22, 27, 33]\n",
      "[37, 20, 19, 14, 5, 22, 2, 3, 29, 36, 15, 17, 4, 33]\n",
      "[19, 4, 34, 30, 36, 12, 2, 38, 23]\n",
      "[1, 31, 9, 10, 20, 30, 22, 35, 27, 36, 21, 39, 38, 17, 6, 15]\n",
      "[21, 31, 34, 18, 25, 17, 6, 16, 29, 1, 14]\n"
     ]
    }
   ],
   "source": [
    "# Extract qualifications\n",
    "qualifications_lines = [line for line in data if ':' in line]\n",
    "\n",
    "# Clean and extract the qualifications\n",
    "qualifications = [line.split(':', 1)[-1].strip() for line in qualifications_lines]\n",
    "\n",
    "# Convert qualifications into a list of integers\n",
    "qualifications = [list(map(int, line.split(':', 1)[-1].strip().split())) for line in qualifications_lines]\n",
    "\n",
    "# Print the cleaned lines\n",
    "print(\"Qualifications:\")\n",
    "for line in qualifications:\n",
    "    print(line)"
   ]
  }
 ],
 "metadata": {
  "kernelspec": {
   "display_name": ".venv",
   "language": "python",
   "name": "python3"
  },
  "language_info": {
   "codemirror_mode": {
    "name": "ipython",
    "version": 3
   },
   "file_extension": ".py",
   "mimetype": "text/x-python",
   "name": "python",
   "nbconvert_exporter": "python",
   "pygments_lexer": "ipython3",
   "version": "3.12.6"
  }
 },
 "nbformat": 4,
 "nbformat_minor": 5
}
